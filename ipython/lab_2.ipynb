{
 "cells": [
  {
   "cell_type": "code",
   "execution_count": null,
   "metadata": {},
   "outputs": [],
   "source": [
    "import tkinter\n",
    "from pyensae.datasource import download_data\n",
    "\n",
    "tkinter._test()"
   ]
  },
  {
   "cell_type": "code",
   "execution_count": null,
   "metadata": {},
   "outputs": [],
   "source": [
    "import nltk as nl\n",
    "\n",
    "text = (\"\"\"Your professor Nistor Grozavu is member of the ETIS laboratory. \n",
    "ETIS laboratory consist of 5 teams and has 150 researchers. \n",
    "Nistor main research work is data mining and machine learning. \n",
    "Machine Learning is also used in Text Mining and words researching.\"\"\")\n",
    "\n",
    "nl.download('punkt')\n",
    "nl.download('averaged_perceptron_tagger')\n",
    "nl.download('maxent_ne_chunker')\n",
    "nl.download('words')\n",
    "\n",
    "tokens = nl.word_tokenize(text)\n",
    "tagged = nl.pos_tag(tokens)\n",
    "entities = nl.chunk.ne_chunk(tagged)\n",
    "\n",
    "rp = nl.RegexpParser(\"NP: {<DT>?<JJ>*<NN>}\")\n",
    "print(rp.parse(tagged))"
   ]
  },
  {
   "cell_type": "code",
   "execution_count": 4,
   "metadata": {},
   "outputs": [
    {
     "name": "stderr",
     "output_type": "stream",
     "text": [
      "[nltk_data] Downloading package treebank to\n",
      "[nltk_data]     C:\\Users\\io\\AppData\\Roaming\\nltk_data...\n",
      "[nltk_data]   Package treebank is already up-to-date!\n"
     ]
    }
   ],
   "source": [
    "from nltk.corpus import treebank\n",
    "\n",
    "nl.download('treebank')\n",
    "\n",
    "t = treebank.parsed_sents('wsj_0001.mrg')[0]    # uses tkinter\n",
    "t.draw()"
   ]
  },
  {
   "cell_type": "code",
   "execution_count": 5,
   "metadata": {},
   "outputs": [],
   "source": [
    "from nltk.probability import FreqDist\n",
    "\n",
    "fd = FreqDist(tokens)\n",
    "dist = fd.most_common(5)"
   ]
  },
  {
   "cell_type": "code",
   "execution_count": 11,
   "metadata": {},
   "outputs": [
    {
     "name": "stdout",
     "output_type": "stream",
     "text": [
      "research research\n",
      "researching research\n",
      "researcher research\n"
     ]
    },
    {
     "name": "stderr",
     "output_type": "stream",
     "text": [
      "[nltk_data] Downloading package wordnet to\n",
      "[nltk_data]     C:\\Users\\io\\AppData\\Roaming\\nltk_data...\n",
      "[nltk_data]   Package wordnet is already up-to-date!\n",
      "[nltk_data] Downloading package omw-1.4 to\n",
      "[nltk_data]     C:\\Users\\io\\AppData\\Roaming\\nltk_data...\n",
      "[nltk_data]   Unzipping corpora\\omw-1.4.zip.\n"
     ]
    },
    {
     "name": "stdout",
     "output_type": "stream",
     "text": [
      "rock corpus\n"
     ]
    }
   ],
   "source": [
    "from nltk.stem import PorterStemmer, WordNetLemmatizer\n",
    "\n",
    "ps = PorterStemmer()\n",
    "ps.stem(\"research\")\n",
    "for word in [\"research\", \"researching\", \"researcher\"]:\n",
    "    print(word, ps.stem(word))\n",
    "\n",
    "nl.download('wordnet')\n",
    "nl.download('omw-1.4')\n",
    "\n",
    "wnl = WordNetLemmatizer()\n",
    "print(wnl.lemmatize(\"rocks\"), wnl.lemmatize(\"corpora\"))"
   ]
  },
  {
   "cell_type": "code",
   "execution_count": 18,
   "metadata": {},
   "outputs": [
    {
     "name": "stdout",
     "output_type": "stream",
     "text": [
      "your\n",
      "is\n",
      "of\n",
      "the\n",
      "of\n",
      "and\n",
      "has\n",
      "is\n",
      "and\n",
      "is\n",
      "in\n",
      "and\n"
     ]
    },
    {
     "name": "stderr",
     "output_type": "stream",
     "text": [
      "[nltk_data] Downloading package stopwords to\n",
      "[nltk_data]     C:\\Users\\io\\AppData\\Roaming\\nltk_data...\n",
      "[nltk_data]   Package stopwords is already up-to-date!\n"
     ]
    }
   ],
   "source": [
    "from nltk.corpus import stopwords\n",
    "\n",
    "nl.download('stopwords')\n",
    "\n",
    "swords = set(stopwords.words(\"english\"))\n",
    "for word in map(str.lower, tokens):  # iterating exhausts the generator\n",
    "    if word in swords:\n",
    "        print(word, sep=\" \")"
   ]
  },
  {
   "cell_type": "code",
   "execution_count": 21,
   "metadata": {},
   "outputs": [
    {
     "data": {
      "text/plain": [
       "array(['150', 'also', 'consist', 'data', 'etis', 'grozavu', 'laboratory',\n",
       "       'learning', 'machine', 'main', 'member', 'mining', 'nistor',\n",
       "       'professor', 'research', 'researchers', 'researching', 'teams',\n",
       "       'text', 'used', 'words', 'work'], dtype=object)"
      ]
     },
     "execution_count": 21,
     "metadata": {},
     "output_type": "execute_result"
    }
   ],
   "source": [
    "from sklearn.feature_extraction.text import TfidfVectorizer\n",
    "\n",
    "vectorizer = TfidfVectorizer(stop_words=swords)\n",
    "res = vectorizer.fit_transform(tokens)\n",
    "\n",
    "vectorizer.get_feature_names_out()"
   ]
  },
  {
   "cell_type": "markdown",
   "metadata": {},
   "source": [
    "K-means clustering on wikipedia data, for k=4 use the elbow method to find the best number of clusters by computing the Silhouette index."
   ]
  },
  {
   "cell_type": "code",
   "execution_count": null,
   "metadata": {},
   "outputs": [],
   "source": [
    "from sklearn.datasets import fetch_20newsgroups\n",
    "\n",
    "categories = ['alt.atheism', 'soc.religion.christian',\n",
    "              'comp.graphics', 'sci.med']\n",
    "data = fetch_20newsgroups(subset='train', categories=categories, shuffle=True, random_state=42)"
   ]
  },
  {
   "cell_type": "code",
   "execution_count": null,
   "metadata": {},
   "outputs": [],
   "source": [
    "import wikipedia\n",
    "\n",
    "articles = [\n",
    "    'Data Science','Artificial intelligence','Machine Learning','European CentralBank','Bank',\n",
    "    'Financial technology','International Monetary Fund','Basketball','Swimming','Tennis']\n",
    "\n",
    "article_text = wikipedia.page(articles[0]).content"
   ]
  },
  {
   "cell_type": "code",
   "execution_count": null,
   "metadata": {},
   "outputs": [],
   "source": [
    "import pandas as pd\n",
    "import matplotlib.pyplot as plt\n",
    "from sklearn.cluster import KMeans\n",
    "\n",
    "true_k = 6\n",
    "model = KMeans(n_clusters=true_k, init='k-means++', max_iter=200, n_init=10)\n",
    "model.fit(X)\n",
    "labels = model.labels_\n",
    "wiki_cl = pd.DataFrame(list(zip(title, labels)), columns=['title', 'cluster'])\n",
    "print(wiki_cl.sort_values(by=['cluster']))"
   ]
  },
  {
   "cell_type": "code",
   "execution_count": null,
   "metadata": {},
   "outputs": [],
   "source": [
    "from wordcloud import WordCloud\n",
    "\n",
    "test = pd.DataFrame({\"cluster\": labels, \"wiki\": [article_text]})\n",
    "wc = WordCloud(max_font_size=50, max_words=100, background_color=\"white\").generate(text)\n",
    "\n",
    "plt.figure()\n",
    "plt.imshow(wc, interpolation=\"bilinear\")\n",
    "plt.axis(\"off\")\n",
    "plt.show()"
   ]
  }
 ],
 "metadata": {
  "interpreter": {
   "hash": "48bbb6dc0ddbb8fece2190be95839c52333084381a2f721593996eb3919fcd69"
  },
  "kernelspec": {
   "display_name": "Python 3.9.0 ('.venv': venv)",
   "language": "python",
   "name": "python3"
  },
  "language_info": {
   "codemirror_mode": {
    "name": "ipython",
    "version": 3
   },
   "file_extension": ".py",
   "mimetype": "text/x-python",
   "name": "python",
   "nbconvert_exporter": "python",
   "pygments_lexer": "ipython3",
   "version": "3.10.4"
  },
  "orig_nbformat": 4
 },
 "nbformat": 4,
 "nbformat_minor": 2
}

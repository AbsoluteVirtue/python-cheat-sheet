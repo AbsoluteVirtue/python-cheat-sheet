{
 "cells": [
  {
   "cell_type": "code",
   "execution_count": 1,
   "metadata": {},
   "outputs": [],
   "source": [
    "from sklearn.datasets import fetch_20newsgroups\n",
    "\n",
    "categories = ['alt.atheism', 'soc.religion.christian',\n",
    "              'comp.graphics', 'sci.med']\n",
    "redundant_elements = ('headers', 'footers', 'quotes')\n",
    "\n",
    "newsgroups_train = fetch_20newsgroups(\n",
    "    subset='train', categories=categories, shuffle=True, random_state=42, remove=redundant_elements)\n",
    "newsgroups_test = fetch_20newsgroups(\n",
    "    subset='test', categories=categories, remove=redundant_elements, shuffle=True, random_state=42)\n",
    "\n",
    "y_train, y_test = newsgroups_train.target, newsgroups_test.target"
   ]
  },
  {
   "cell_type": "code",
   "execution_count": 14,
   "metadata": {},
   "outputs": [],
   "source": [
    "from keras.backend import clear_session\n",
    "\n",
    "clear_session()"
   ]
  },
  {
   "cell_type": "code",
   "execution_count": 3,
   "metadata": {},
   "outputs": [],
   "source": [
    "import re\n",
    "import pandas as pd\n",
    "import string\n",
    "\n",
    "\n",
    "def alphanumeric(x): return re.sub(r\"\"\"\\w*\\d\\w*\"\"\", ' ', x)\n",
    "def punc_lower(x): return re.sub(\n",
    "    '[%s]' % re.escape(string.punctuation), ' ', x.replace(\"\\n\", \" \").replace(\"\\t\", \" \"))\n",
    "\n",
    "\n",
    "pd_train = pd.DataFrame({'data': newsgroups_train.data, 'target': newsgroups_train.target})\n",
    "pd_train['data'] = pd_train.data.map(alphanumeric).map(punc_lower)\n",
    "\n",
    "pd_test = pd.DataFrame({'data': newsgroups_test.data, 'target': newsgroups_test.target})\n",
    "pd_test['data'] = pd_test.data.map(alphanumeric).map(punc_lower)"
   ]
  },
  {
   "cell_type": "code",
   "execution_count": 4,
   "metadata": {},
   "outputs": [
    {
     "name": "stderr",
     "output_type": "stream",
     "text": [
      "c:\\Users\\io\\PycharmProjects\\test\\.venv\\lib\\site-packages\\sklearn\\feature_extraction\\text.py:404: UserWarning: Your stop_words may be inconsistent with your preprocessing. Tokenizing the stop words generated tokens ['ha', 'le', 'u', 'wa'] not in stop_words.\n",
      "  warnings.warn(\n"
     ]
    },
    {
     "data": {
      "text/plain": [
       "59.98360655737705"
      ]
     },
     "execution_count": 4,
     "metadata": {},
     "output_type": "execute_result"
    }
   ],
   "source": [
    "from sklearn.feature_extraction.text import TfidfVectorizer\n",
    "from nltk import word_tokenize\n",
    "from nltk.stem import WordNetLemmatizer\n",
    "\n",
    "\n",
    "class LemmaTokenizer:\n",
    "\n",
    "    def __init__(self):\n",
    "        self.wnl = WordNetLemmatizer()\n",
    "\n",
    "    def __call__(self, doc):\n",
    "        return [self.wnl.lemmatize(t) for t in word_tokenize(doc)]\n",
    "\n",
    "\n",
    "vectorizer = TfidfVectorizer(\n",
    "    sublinear_tf=True, lowercase=True, tokenizer=LemmaTokenizer(), max_df=0.5, min_df=0.0005, stop_words=\"english\")\n",
    "\n",
    "x_train = vectorizer.fit_transform(pd_train.data)\n",
    "x_test = vectorizer.transform(pd_test.data)\n",
    "# F-score:\n",
    "x_train.nnz / float(x_train.shape[0])"
   ]
  },
  {
   "cell_type": "code",
   "execution_count": 6,
   "metadata": {},
   "outputs": [
    {
     "name": "stdout",
     "output_type": "stream",
     "text": [
      "Model: \"sequential\"\n",
      "_________________________________________________________________\n",
      " Layer (type)                Output Shape              Param #   \n",
      "=================================================================\n",
      " dense (Dense)               (None, 1500)              16483500  \n",
      "                                                                 \n",
      " dense_1 (Dense)             (None, 4)                 6004      \n",
      "                                                                 \n",
      "=================================================================\n",
      "Total params: 16,489,504\n",
      "Trainable params: 16,489,504\n",
      "Non-trainable params: 0\n",
      "_________________________________________________________________\n"
     ]
    }
   ],
   "source": [
    "from keras.callbacks import EarlyStopping, ModelCheckpoint\n",
    "from keras.layers import Dense\n",
    "from keras.models import Sequential\n",
    "\n",
    "\n",
    "model = Sequential()\n",
    "\n",
    "model.add(Dense(1500, input_dim=x_train.shape[1], activation='relu'))\n",
    "model.add(Dense(4, activation='softmax'))\n",
    "\n",
    "model.compile(\n",
    "    optimizer='adam', loss='categorical_crossentropy',\n",
    "    metrics=['accuracy'])\n",
    "\n",
    "model.summary()"
   ]
  },
  {
   "cell_type": "code",
   "execution_count": null,
   "metadata": {},
   "outputs": [],
   "source": [
    "from keras.callbacks import EarlyStopping, ModelCheckpoint\n",
    "from keras.utils import to_categorical\n",
    "\n",
    "\n",
    "esc = EarlyStopping(monitor='val_loss', min_delta=0,\n",
    "                    patience=3, verbose=1, mode='auto')\n",
    "cp = ModelCheckpoint(filepath=\"weights.hdf5\",\n",
    "                     monitor='val_loss', verbose=1, save_best_only=True)\n",
    "\n",
    "m1 = model.fit(x_train.toarray(), to_categorical(pd_train[\"target\"], num_classes=4), batch_size=32,\n",
    "               epochs=10, callbacks=[esc, cp], validation_split=0.2)"
   ]
  },
  {
   "cell_type": "code",
   "execution_count": null,
   "metadata": {},
   "outputs": [],
   "source": [
    "import matplotlib.pyplot as plt\n",
    "\n",
    "\n",
    "plt.plot(m1.history['accuracy'], label='train')\n",
    "plt.plot(m1.history['val_accuracy'], label='validation')\n",
    "plt.legend()\n",
    "plt.show()"
   ]
  },
  {
   "cell_type": "code",
   "execution_count": null,
   "metadata": {},
   "outputs": [],
   "source": [
    "plt.plot(m1.history['loss'], label='train')\n",
    "plt.plot(m1.history['val_loss'], label='validation')\n",
    "plt.legend()\n",
    "plt.show()"
   ]
  },
  {
   "cell_type": "code",
   "execution_count": null,
   "metadata": {},
   "outputs": [],
   "source": [
    "import numpy as np\n",
    "\n",
    "\n",
    "model.load_weights(\"weights.hdf5\")\n",
    "\n",
    "yP1 = model.predict(x_test.toarray())\n",
    "yP2 = np.argmax(yP1, axis=1)\n",
    "\n",
    "np.mean(yP2 == pd_test[\"target\"])"
   ]
  },
  {
   "cell_type": "markdown",
   "metadata": {},
   "source": [
    "Train CLF"
   ]
  },
  {
   "cell_type": "code",
   "execution_count": 5,
   "metadata": {},
   "outputs": [],
   "source": [
    "from sklearn.naive_bayes import MultinomialNB\n",
    "from sklearn import metrics\n",
    "\n",
    "\n",
    "clf = MultinomialNB(alpha=.01)"
   ]
  },
  {
   "cell_type": "code",
   "execution_count": 6,
   "metadata": {},
   "outputs": [
    {
     "name": "stdout",
     "output_type": "stream",
     "text": [
      "0.7711044377711045\n",
      "0.7652803793710472\n",
      "                        precision    recall  f1-score   support\n",
      "\n",
      "           alt.atheism       0.71      0.52      0.60       319\n",
      "         comp.graphics       0.78      0.80      0.79       389\n",
      "        comp.windows.x       0.85      0.80      0.83       395\n",
      "             rec.autos       0.87      0.81      0.84       396\n",
      "               sci.med       0.87      0.77      0.81       396\n",
      "             sci.space       0.79      0.82      0.80       394\n",
      "soc.religion.christian       0.61      0.90      0.73       398\n",
      "    talk.politics.misc       0.76      0.69      0.72       310\n",
      "\n",
      "              accuracy                           0.77      2997\n",
      "             macro avg       0.78      0.76      0.77      2997\n",
      "          weighted avg       0.78      0.77      0.77      2997\n",
      "\n",
      "[[167   2   6   7  10  16  91  20]\n",
      " [  7 311  35   8   3  13  11   1]\n",
      " [  0  58 317   3   3   6   7   1]\n",
      " [  4   5   3 319   6  14  34  11]\n",
      " [  7   9   2  13 303  17  32  13]\n",
      " [  5   9   3   7   7 323  24  16]\n",
      " [ 17   4   4   2   4   3 357   7]\n",
      " [ 27   2   3   8  13  17  26 214]]\n"
     ]
    }
   ],
   "source": [
    "clf.fit(x_train, y_train)\n",
    "\n",
    "pred = clf.predict(x_test)\n",
    "\n",
    "if hasattr(clf, \"coef_\"):\n",
    "    import numpy as np\n",
    "    from sklearn.utils.extmath import density\n",
    "    \n",
    "    feature_names = vectorizer.get_feature_names_out()\n",
    "    dens = density(clf.coef_)\n",
    "    for i, category in enumerate(newsgroups_train.target_names):\n",
    "        top10 = np.argsort(clf.coef_[i])[-10:]\n",
    "        print(\"%s: %s\" % (category, \" \".join(feature_names[top10])))\n",
    "\n",
    "print(\n",
    "    metrics.accuracy_score(y_test, pred),\n",
    "    metrics.f1_score(newsgroups_test.target, pred, average='macro'),\n",
    "    metrics.classification_report(y_test, pred, target_names=newsgroups_train.target_names), \n",
    "    metrics.confusion_matrix(y_test, pred),\n",
    "    sep=\"\\n\")"
   ]
  },
  {
   "cell_type": "markdown",
   "metadata": {},
   "source": [
    "Neural networks"
   ]
  },
  {
   "cell_type": "code",
   "execution_count": 5,
   "metadata": {},
   "outputs": [],
   "source": [
    "from keras.utils import to_categorical\n",
    "from nltk.stem import WordNetLemmatizer\n",
    "from nltk.tokenize import WhitespaceTokenizer\n",
    "\n",
    "w_tokenizer = WhitespaceTokenizer()\n",
    "lemmatizer = WordNetLemmatizer()\n",
    "\n",
    "def toklem(text):\n",
    "    return (\" \".join([lemmatizer.lemmatize(w, \"v\") for w in w_tokenizer.tokenize(text)]))\n",
    "\n",
    "\n",
    "mydata_train_df[\"data_lemmatized\"] = mydata_train_df.data.apply(toklem)\n",
    "mydata_test_df[\"data_lemmatized\"] = mydata_test_df.data.apply(toklem)\n",
    "\n",
    "yTrainHot = to_categorical(pd_train[\"target\"], num_classes=4)"
   ]
  },
  {
   "cell_type": "code",
   "execution_count": null,
   "metadata": {},
   "outputs": [],
   "source": [
    "from keras.layers import TextVectorization\n",
    "from nltk import word_tokenize\n",
    "\n",
    "\n",
    "vectorizer = TextVectorization(max_tokens=30000, output_sequence_length=1000)\n",
    "vectorizer.adapt(pd_train.data)\n",
    "vocab = vectorizer.get_vocabulary()"
   ]
  },
  {
   "cell_type": "code",
   "execution_count": 6,
   "metadata": {},
   "outputs": [],
   "source": [
    "from keras.preprocessing.text import Tokenizer\n",
    "\n",
    "\n",
    "tokenizer = Tokenizer(num_words=25000)\n",
    "tokenizer.fit_on_texts(pd_train.data)\n",
    "\n",
    "x_train = tokenizer.texts_to_sequences(pd_train.data)\n",
    "x_test = tokenizer.texts_to_sequences(pd_test.data)\n",
    "\n",
    "vocab_size = len(tokenizer.word_index) + 1"
   ]
  },
  {
   "cell_type": "code",
   "execution_count": 8,
   "metadata": {},
   "outputs": [],
   "source": [
    "from keras.utils import pad_sequences\n",
    "\n",
    "\n",
    "maxlen = 1000\n",
    "\n",
    "x_train = pad_sequences(x_train, padding='post', maxlen=maxlen)\n",
    "x_test = pad_sequences(x_test, padding='post', maxlen=maxlen)"
   ]
  },
  {
   "cell_type": "code",
   "execution_count": 17,
   "metadata": {},
   "outputs": [
    {
     "name": "stdout",
     "output_type": "stream",
     "text": [
      "Model: \"sequential_1\"\n",
      "_________________________________________________________________\n",
      " Layer (type)                Output Shape              Param #   \n",
      "=================================================================\n",
      " embedding_1 (Embedding)     (None, 1000, 50)          1305550   \n",
      "                                                                 \n",
      " flatten_1 (Flatten)         (None, 50000)             0         \n",
      "                                                                 \n",
      " dense_2 (Dense)             (None, 10)                500010    \n",
      "                                                                 \n",
      " dropout (Dropout)           (None, 10)                0         \n",
      "                                                                 \n",
      " dense_3 (Dense)             (None, 1)                 11        \n",
      "                                                                 \n",
      "=================================================================\n",
      "Total params: 1,805,571\n",
      "Trainable params: 1,805,571\n",
      "Non-trainable params: 0\n",
      "_________________________________________________________________\n"
     ]
    }
   ],
   "source": [
    "from keras.models import Sequential\n",
    "from keras import layers\n",
    "\n",
    "\n",
    "model2 = Sequential()\n",
    "\n",
    "model2.add(layers.Embedding(input_dim=vocab_size, \n",
    "                           output_dim=50, \n",
    "                           input_length=maxlen))\n",
    "model2.add(layers.Flatten())\n",
    "model2.add(layers.Dense(10, activation='relu'))\n",
    "model2.add(layers.Dropout(0.2))\n",
    "model2.add(layers.Dense(1, activation='sigmoid'))\n",
    "\n",
    "model2.compile(optimizer='adam', loss='categorical_crossentropy',\n",
    "               metrics=['mean_squared_error'])\n",
    "\n",
    "model2.summary()"
   ]
  },
  {
   "cell_type": "code",
   "execution_count": 18,
   "metadata": {},
   "outputs": [
    {
     "name": "stdout",
     "output_type": "stream",
     "text": [
      "Epoch 1/10\n",
      "70/71 [============================>.] - ETA: 0s - loss: 0.0000e+00 - mean_squared_error: 1.5533\n",
      "Epoch 1: val_loss improved from inf to 0.00000, saving model to weights.hdf5\n",
      "71/71 [==============================] - 2s 23ms/step - loss: 0.0000e+00 - mean_squared_error: 1.5584 - val_loss: 0.0000e+00 - val_mean_squared_error: 1.5360\n",
      "Epoch 2/10\n",
      "70/71 [============================>.] - ETA: 0s - loss: 0.0000e+00 - mean_squared_error: 1.5379\n",
      "Epoch 2: val_loss did not improve from 0.00000\n",
      "71/71 [==============================] - 1s 20ms/step - loss: 0.0000e+00 - mean_squared_error: 1.5374 - val_loss: 0.0000e+00 - val_mean_squared_error: 1.5360\n",
      "Epoch 3/10\n",
      "69/71 [============================>.] - ETA: 0s - loss: 0.0000e+00 - mean_squared_error: 1.5331\n",
      "Epoch 3: val_loss did not improve from 0.00000\n",
      "71/71 [==============================] - 1s 21ms/step - loss: 0.0000e+00 - mean_squared_error: 1.5379 - val_loss: 0.0000e+00 - val_mean_squared_error: 1.5360\n",
      "Epoch 4/10\n",
      "69/71 [============================>.] - ETA: 0s - loss: 0.0000e+00 - mean_squared_error: 1.5417\n",
      "Epoch 4: val_loss did not improve from 0.00000\n",
      "71/71 [==============================] - 1s 21ms/step - loss: 0.0000e+00 - mean_squared_error: 1.5374 - val_loss: 0.0000e+00 - val_mean_squared_error: 1.5360\n",
      "Epoch 4: early stopping\n"
     ]
    }
   ],
   "source": [
    "from keras.callbacks import EarlyStopping, ModelCheckpoint\n",
    "\n",
    "\n",
    "esc = EarlyStopping(monitor='val_loss', min_delta=0,\n",
    "                    patience=3, verbose=1, mode='auto')\n",
    "cp = ModelCheckpoint(filepath=\"weights.hdf5\",\n",
    "                     monitor='val_loss', verbose=1, save_best_only=True)\n",
    "\n",
    "m2 = model2.fit(x_train, y_train, batch_size=32,\n",
    "                epochs=10, callbacks=[esc, cp], validation_data=(x_test, y_test))"
   ]
  },
  {
   "cell_type": "code",
   "execution_count": 13,
   "metadata": {},
   "outputs": [
    {
     "data": {
      "image/png": "[encoded data removed]",
      "text/plain": [
       "<Figure size 432x288 with 1 Axes>"
      ]
     },
     "metadata": {
      "needs_background": "light"
     },
     "output_type": "display_data"
    }
   ],
   "source": [
    "loss, accuracy = model2.evaluate(x_train, y_train, verbose=False)\n",
    "\n",
    "import matplotlib.pyplot as plt\n",
    "\n",
    "\n",
    "plt.plot(m2.history['accuracy'], label='train')\n",
    "plt.plot(m2.history['val_accuracy'], label='validation')\n",
    "plt.legend()\n",
    "plt.show()"
   ]
  }
 ],
 "metadata": {
  "interpreter": {
   "hash": "48bbb6dc0ddbb8fece2190be95839c52333084381a2f721593996eb3919fcd69"
  },
  "kernelspec": {
   "display_name": "Python 3.10.4 ('.venv': venv)",
   "language": "python",
   "name": "python3"
  },
  "language_info": {
   "codemirror_mode": {
    "name": "ipython",
    "version": 3
   },
   "file_extension": ".py",
   "mimetype": "text/x-python",
   "name": "python",
   "nbconvert_exporter": "python",
   "pygments_lexer": "ipython3",
   "version": "3.10.4"
  },
  "orig_nbformat": 4
 },
 "nbformat": 4,
 "nbformat_minor": 2
}
